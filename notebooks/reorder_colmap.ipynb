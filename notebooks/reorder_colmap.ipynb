{
 "cells": [
  {
   "cell_type": "code",
   "execution_count": 23,
   "metadata": {},
   "outputs": [
    {
     "name": "stdout",
     "output_type": "stream",
     "text": [
      "Detected model format: '.txt'\n",
      "Reconstruction:\n",
      "\tnum_reg_images = 128\n",
      "\tnum_cameras = 1\n",
      "\tnum_points3D = 61514\n",
      "\tnum_observations = 326515\n",
      "\tmean_track_length = 5.30798\n",
      "\tmean_observations_per_image = 2550.9\n",
      "\tmean_reprojection_error = 0.497032\n"
     ]
    }
   ],
   "source": [
    "import pycolmap\n",
    "\n",
    "import thirdparty.colmap.scripts.python.read_write_model as pc\n",
    "\n",
    "DATASET_ROOT = \"/home/tdriver6/Downloads/south-building/sparse\"\n",
    "\n",
    "recon = pycolmap.Reconstruction(DATASET_ROOT)\n",
    "cameras, images, points3D = pc.read_model(DATASET_ROOT)\n",
    "print(recon.summary())"
   ]
  },
  {
   "cell_type": "code",
   "execution_count": 24,
   "metadata": {},
   "outputs": [],
   "source": [
    "import numpy as np\n",
    "\n",
    "image_names = []\n",
    "image_ids = []\n",
    "for (image_id, image) in images.items():\n",
    "    image_names.append(image.name)\n",
    "    image_ids.append(image_id)\n",
    "\n",
    "sorted_ind = np.argsort(image_names)"
   ]
  },
  {
   "cell_type": "code",
   "execution_count": 25,
   "metadata": {},
   "outputs": [],
   "source": [
    "import thirdparty.colmap.scripts.python.read_write_model as pc\n",
    "\n",
    "images_new = {}\n",
    "for new_id, idx in enumerate(sorted_ind):\n",
    "    old_image = images[image_ids[idx]]\n",
    "    images_new[new_id] = pc.Image(\n",
    "        id=new_id,\n",
    "        qvec=old_image.qvec,\n",
    "        tvec=old_image.tvec,\n",
    "        camera_id=old_image.camera_id,\n",
    "        name=old_image.name,\n",
    "        xys=old_image.xys,\n",
    "        point3D_ids=old_image.point3D_ids,\n",
    "    )"
   ]
  },
  {
   "cell_type": "code",
   "execution_count": 26,
   "metadata": {},
   "outputs": [
    {
     "name": "stdout",
     "output_type": "stream",
     "text": [
      "[0, 1, 2, 3, 4, 5, 6, 7, 8, 9, 10, 11, 12, 13, 14, 15, 16, 17, 18, 19, 20, 21, 22, 23, 24, 25, 26, 27, 28, 29, 30, 31, 32, 33, 34, 35, 36, 37, 38, 39, 40, 41, 42, 43, 44, 45, 46, 47, 48, 49, 50, 51, 52, 53, 54, 55, 56, 57, 58, 59, 60, 61, 62, 63, 64, 65, 66, 67, 68, 69, 70, 71, 72, 73, 74, 75, 76, 77, 78, 79, 80, 81, 82, 83, 84, 85, 86, 87, 88, 89, 90, 91, 92, 93, 94, 95, 96, 97, 98, 99, 100, 101, 102, 103, 104, 105, 106, 107, 108, 109, 110, 111, 112, 113, 114, 115, 116, 117, 118, 119, 120, 121, 122, 123, 124, 125, 126, 127]\n",
      "['P1180141.JPG', 'P1180142.JPG', 'P1180143.JPG', 'P1180144.JPG', 'P1180145.JPG', 'P1180146.JPG', 'P1180147.JPG', 'P1180148.JPG', 'P1180149.JPG', 'P1180150.JPG', 'P1180151.JPG', 'P1180152.JPG', 'P1180153.JPG', 'P1180154.JPG', 'P1180155.JPG', 'P1180156.JPG', 'P1180157.JPG', 'P1180158.JPG', 'P1180159.JPG', 'P1180160.JPG', 'P1180161.JPG', 'P1180162.JPG', 'P1180163.JPG', 'P1180164.JPG', 'P1180165.JPG', 'P1180166.JPG', 'P1180167.JPG', 'P1180168.JPG', 'P1180169.JPG', 'P1180170.JPG', 'P1180171.JPG', 'P1180172.JPG', 'P1180173.JPG', 'P1180174.JPG', 'P1180175.JPG', 'P1180176.JPG', 'P1180177.JPG', 'P1180178.JPG', 'P1180179.JPG', 'P1180180.JPG', 'P1180181.JPG', 'P1180182.JPG', 'P1180183.JPG', 'P1180184.JPG', 'P1180185.JPG', 'P1180186.JPG', 'P1180187.JPG', 'P1180188.JPG', 'P1180189.JPG', 'P1180190.JPG', 'P1180191.JPG', 'P1180192.JPG', 'P1180193.JPG', 'P1180194.JPG', 'P1180195.JPG', 'P1180196.JPG', 'P1180197.JPG', 'P1180198.JPG', 'P1180199.JPG', 'P1180200.JPG', 'P1180201.JPG', 'P1180202.JPG', 'P1180203.JPG', 'P1180204.JPG', 'P1180205.JPG', 'P1180206.JPG', 'P1180207.JPG', 'P1180208.JPG', 'P1180209.JPG', 'P1180210.JPG', 'P1180211.JPG', 'P1180212.JPG', 'P1180213.JPG', 'P1180214.JPG', 'P1180215.JPG', 'P1180216.JPG', 'P1180217.JPG', 'P1180218.JPG', 'P1180219.JPG', 'P1180220.JPG', 'P1180221.JPG', 'P1180222.JPG', 'P1180223.JPG', 'P1180224.JPG', 'P1180225.JPG', 'P1180305.JPG', 'P1180306.JPG', 'P1180307.JPG', 'P1180308.JPG', 'P1180309.JPG', 'P1180310.JPG', 'P1180311.JPG', 'P1180312.JPG', 'P1180313.JPG', 'P1180314.JPG', 'P1180315.JPG', 'P1180316.JPG', 'P1180317.JPG', 'P1180318.JPG', 'P1180319.JPG', 'P1180320.JPG', 'P1180321.JPG', 'P1180322.JPG', 'P1180323.JPG', 'P1180324.JPG', 'P1180325.JPG', 'P1180326.JPG', 'P1180327.JPG', 'P1180328.JPG', 'P1180329.JPG', 'P1180330.JPG', 'P1180331.JPG', 'P1180332.JPG', 'P1180333.JPG', 'P1180334.JPG', 'P1180335.JPG', 'P1180336.JPG', 'P1180337.JPG', 'P1180338.JPG', 'P1180339.JPG', 'P1180340.JPG', 'P1180341.JPG', 'P1180342.JPG', 'P1180343.JPG', 'P1180344.JPG', 'P1180345.JPG', 'P1180346.JPG', 'P1180347.JPG']\n"
     ]
    }
   ],
   "source": [
    "image_names = []\n",
    "image_ids = []\n",
    "for (image_id, image) in images_new.items():\n",
    "    image_names.append(image.name)\n",
    "    image_ids.append(image_id)\n",
    "\n",
    "print(image_ids)\n",
    "print(image_names)"
   ]
  },
  {
   "cell_type": "code",
   "execution_count": 27,
   "metadata": {},
   "outputs": [],
   "source": [
    "import os\n",
    "\n",
    "pc.write_images_text(images_new, os.path.join(DATASET_ROOT, \"images_reordered.txt\"))"
   ]
  }
 ],
 "metadata": {
  "kernelspec": {
   "display_name": "Python 3.8.12 ('gtsfm-v1')",
   "language": "python",
   "name": "python3"
  },
  "language_info": {
   "codemirror_mode": {
    "name": "ipython",
    "version": 3
   },
   "file_extension": ".py",
   "mimetype": "text/x-python",
   "name": "python",
   "nbconvert_exporter": "python",
   "pygments_lexer": "ipython3",
   "version": "3.8.12"
  },
  "orig_nbformat": 4,
  "vscode": {
   "interpreter": {
    "hash": "3116b932223553bf88b5ef266f530a91c63077be7ffb6622dde8aee47d0061e3"
   }
  }
 },
 "nbformat": 4,
 "nbformat_minor": 2
}
