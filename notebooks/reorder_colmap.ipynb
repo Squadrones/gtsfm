{
 "cells": [
  {
   "cell_type": "code",
   "execution_count": 11,
   "metadata": {},
   "outputs": [
    {
     "name": "stdout",
     "output_type": "stream",
     "text": [
      "Detected model format: '.txt'\n",
      "Reconstruction:\n",
      "\tnum_reg_images = 330\n",
      "\tnum_cameras = 1\n",
      "\tnum_points3D = 143563\n",
      "\tnum_observations = 1127877\n",
      "\tmean_track_length = 7.85632\n",
      "\tmean_observations_per_image = 3417.81\n",
      "\tmean_reprojection_error = 0.64616\n"
     ]
    }
   ],
   "source": [
    "import pycolmap\n",
    "\n",
    "import thirdparty.colmap.scripts.python.read_write_model as pc\n",
    "\n",
    "DATASET_ROOT = \"/home/tdriver6/Downloads/person-hall/sparse\"\n",
    "\n",
    "recon = pycolmap.Reconstruction(DATASET_ROOT)\n",
    "cameras, images, points3D = pc.read_model(DATASET_ROOT)\n",
    "print(recon.summary())"
   ]
  },
  {
   "cell_type": "code",
   "execution_count": 12,
   "metadata": {},
   "outputs": [],
   "source": [
    "import numpy as np\n",
    "\n",
    "image_names = []\n",
    "image_ids = []\n",
    "for (image_id, image) in images.items():\n",
    "    image_names.append(image.name)\n",
    "    image_ids.append(image_id)\n",
    "\n",
    "sorted_ind = np.argsort(image_names)"
   ]
  },
  {
   "cell_type": "code",
   "execution_count": 13,
   "metadata": {},
   "outputs": [],
   "source": [
    "import thirdparty.colmap.scripts.python.read_write_model as pc\n",
    "\n",
    "images_new = {}\n",
    "for new_id, idx in enumerate(sorted_ind):\n",
    "    old_image = images[image_ids[idx]]\n",
    "    images_new[new_id] = pc.Image(\n",
    "        id=new_id,\n",
    "        qvec=old_image.qvec,\n",
    "        tvec=old_image.tvec,\n",
    "        camera_id=old_image.camera_id,\n",
    "        name=old_image.name,\n",
    "        xys=old_image.xys,\n",
    "        point3D_ids=old_image.point3D_ids,\n",
    "    )"
   ]
  },
  {
   "cell_type": "code",
   "execution_count": 15,
   "metadata": {},
   "outputs": [
    {
     "name": "stdout",
     "output_type": "stream",
     "text": [
      "[0, 1, 2, 3, 4, 5, 6, 7, 8, 9, 10, 11, 12, 13, 14, 15, 16, 17, 18, 19, 20, 21, 22, 23, 24, 25, 26, 27, 28, 29, 30, 31, 32, 33, 34, 35, 36, 37, 38, 39, 40, 41, 42, 43, 44, 45, 46, 47, 48, 49, 50, 51, 52, 53, 54, 55, 56, 57, 58, 59, 60, 61, 62, 63, 64, 65, 66, 67, 68, 69, 70, 71, 72, 73, 74, 75, 76, 77, 78, 79, 80, 81, 82, 83, 84, 85, 86, 87, 88, 89, 90, 91, 92, 93, 94, 95, 96, 97, 98, 99, 100, 101, 102, 103, 104, 105, 106, 107, 108, 109, 110, 111, 112, 113, 114, 115, 116, 117, 118, 119, 120, 121, 122, 123, 124, 125, 126, 127, 128, 129, 130, 131, 132, 133, 134, 135, 136, 137, 138, 139, 140, 141, 142, 143, 144, 145, 146, 147, 148, 149, 150, 151, 152, 153, 154, 155, 156, 157, 158, 159, 160, 161, 162, 163, 164, 165, 166, 167, 168, 169, 170, 171, 172, 173, 174, 175, 176, 177, 178, 179, 180, 181, 182, 183, 184, 185, 186, 187, 188, 189, 190, 191, 192, 193, 194, 195, 196, 197, 198, 199, 200, 201, 202, 203, 204, 205, 206, 207, 208, 209, 210, 211, 212, 213, 214, 215, 216, 217, 218, 219, 220, 221, 222, 223, 224, 225, 226, 227, 228, 229, 230, 231, 232, 233, 234, 235, 236, 237, 238, 239, 240, 241, 242, 243, 244, 245, 246, 247, 248, 249, 250, 251, 252, 253, 254, 255, 256, 257, 258, 259, 260, 261, 262, 263, 264, 265, 266, 267, 268, 269, 270, 271, 272, 273, 274, 275, 276, 277, 278, 279, 280, 281, 282, 283, 284, 285, 286, 287, 288, 289, 290, 291, 292, 293, 294, 295, 296, 297, 298, 299, 300, 301, 302, 303, 304, 305, 306, 307, 308, 309, 310, 311, 312, 313, 314, 315, 316, 317, 318, 319, 320, 321, 322, 323, 324, 325, 326, 327, 328, 329]\n",
      "['IMG_1015.JPG', 'IMG_1016.JPG', 'IMG_1017.JPG', 'IMG_1018.JPG', 'IMG_1019.JPG', 'IMG_1020.JPG', 'IMG_1021.JPG', 'IMG_1022.JPG', 'IMG_1023.JPG', 'IMG_1024.JPG', 'IMG_1025.JPG', 'IMG_1026.JPG', 'IMG_1027.JPG', 'IMG_1028.JPG', 'IMG_1029.JPG', 'IMG_1030.JPG', 'IMG_1031.JPG', 'IMG_1032.JPG', 'IMG_1033.JPG', 'IMG_1034.JPG', 'IMG_1035.JPG', 'IMG_1036.JPG', 'IMG_1037.JPG', 'IMG_1038.JPG', 'IMG_1039.JPG', 'IMG_1040.JPG', 'IMG_1041.JPG', 'IMG_1042.JPG', 'IMG_1043.JPG', 'IMG_1044.JPG', 'IMG_1045.JPG', 'IMG_1046.JPG', 'IMG_1047.JPG', 'IMG_1048.JPG', 'IMG_1049.JPG', 'IMG_1050.JPG', 'IMG_1051.JPG', 'IMG_1052.JPG', 'IMG_1053.JPG', 'IMG_1054.JPG', 'IMG_1055.JPG', 'IMG_1056.JPG', 'IMG_1057.JPG', 'IMG_1058.JPG', 'IMG_1059.JPG', 'IMG_1060.JPG', 'IMG_1061.JPG', 'IMG_1062.JPG', 'IMG_1063.JPG', 'IMG_1064.JPG', 'IMG_1065.JPG', 'IMG_1066.JPG', 'IMG_1067.JPG', 'IMG_1068.JPG', 'IMG_1069.JPG', 'IMG_1070.JPG', 'IMG_1071.JPG', 'IMG_1072.JPG', 'IMG_1073.JPG', 'IMG_1074.JPG', 'IMG_1075.JPG', 'IMG_1076.JPG', 'IMG_1077.JPG', 'IMG_1078.JPG', 'IMG_1079.JPG', 'IMG_1080.JPG', 'IMG_1081.JPG', 'IMG_1082.JPG', 'IMG_1083.JPG', 'IMG_1084.JPG', 'IMG_1085.JPG', 'IMG_1086.JPG', 'IMG_1087.JPG', 'IMG_1088.JPG', 'IMG_1089.JPG', 'IMG_1090.JPG', 'IMG_1091.JPG', 'IMG_1092.JPG', 'IMG_1093.JPG', 'IMG_1094.JPG', 'IMG_1095.JPG', 'IMG_1096.JPG', 'IMG_1097.JPG', 'IMG_1098.JPG', 'IMG_1099.JPG', 'IMG_1100.JPG', 'IMG_1101.JPG', 'IMG_1102.JPG', 'IMG_1103.JPG', 'IMG_1104.JPG', 'IMG_1105.JPG', 'IMG_1106.JPG', 'IMG_1107.JPG', 'IMG_1108.JPG', 'IMG_1109.JPG', 'IMG_1110.JPG', 'IMG_1111.JPG', 'IMG_1112.JPG', 'IMG_1113.JPG', 'IMG_1114.JPG', 'IMG_1115.JPG', 'IMG_1116.JPG', 'IMG_1117.JPG', 'IMG_1118.JPG', 'IMG_1119.JPG', 'IMG_1120.JPG', 'IMG_1121.JPG', 'IMG_1122.JPG', 'IMG_1123.JPG', 'IMG_1124.JPG', 'IMG_1125.JPG', 'IMG_1126.JPG', 'IMG_1127.JPG', 'IMG_1128.JPG', 'IMG_1129.JPG', 'IMG_1130.JPG', 'IMG_1131.JPG', 'IMG_1132.JPG', 'IMG_1133.JPG', 'IMG_1134.JPG', 'IMG_1135.JPG', 'IMG_1136.JPG', 'IMG_1137.JPG', 'IMG_1138.JPG', 'IMG_1139.JPG', 'IMG_1140.JPG', 'IMG_1141.JPG', 'IMG_1142.JPG', 'IMG_1143.JPG', 'IMG_1144.JPG', 'IMG_1145.JPG', 'IMG_1146.JPG', 'IMG_1147.JPG', 'IMG_1148.JPG', 'IMG_1149.JPG', 'IMG_1150.JPG', 'IMG_1151.JPG', 'IMG_1152.JPG', 'IMG_1153.JPG', 'IMG_1154.JPG', 'IMG_1155.JPG', 'IMG_1156.JPG', 'IMG_1157.JPG', 'IMG_1158.JPG', 'IMG_1159.JPG', 'IMG_1160.JPG', 'IMG_1161.JPG', 'IMG_1162.JPG', 'IMG_1163.JPG', 'IMG_1164.JPG', 'IMG_1165.JPG', 'IMG_1166.JPG', 'IMG_1167.JPG', 'IMG_1168.JPG', 'IMG_1169.JPG', 'IMG_1170.JPG', 'IMG_1171.JPG', 'IMG_1172.JPG', 'IMG_1173.JPG', 'IMG_1174.JPG', 'IMG_1175.JPG', 'IMG_1176.JPG', 'IMG_1177.JPG', 'IMG_1178.JPG', 'IMG_1179.JPG', 'IMG_1180.JPG', 'IMG_1181.JPG', 'IMG_1182.JPG', 'IMG_1183.JPG', 'IMG_1184.JPG', 'IMG_1185.JPG', 'IMG_1186.JPG', 'IMG_1187.JPG', 'IMG_1188.JPG', 'IMG_1189.JPG', 'IMG_1190.JPG', 'IMG_1191.JPG', 'IMG_1192.JPG', 'IMG_1193.JPG', 'IMG_1194.JPG', 'IMG_1195.JPG', 'IMG_1196.JPG', 'IMG_1197.JPG', 'IMG_1198.JPG', 'IMG_1199.JPG', 'IMG_1200.JPG', 'IMG_1201.JPG', 'IMG_1202.JPG', 'IMG_1203.JPG', 'IMG_1204.JPG', 'IMG_1205.JPG', 'IMG_1206.JPG', 'IMG_1207.JPG', 'IMG_1208.JPG', 'IMG_1209.JPG', 'IMG_1210.JPG', 'IMG_1211.JPG', 'IMG_1212.JPG', 'IMG_1213.JPG', 'IMG_1214.JPG', 'IMG_1215.JPG', 'IMG_1216.JPG', 'IMG_1217.JPG', 'IMG_1218.JPG', 'IMG_1219.JPG', 'IMG_1220.JPG', 'IMG_1221.JPG', 'IMG_1222.JPG', 'IMG_1223.JPG', 'IMG_1224.JPG', 'IMG_1225.JPG', 'IMG_1226.JPG', 'IMG_1227.JPG', 'IMG_1228.JPG', 'IMG_1229.JPG', 'IMG_1230.JPG', 'IMG_1231.JPG', 'IMG_1232.JPG', 'IMG_1233.JPG', 'IMG_1234.JPG', 'IMG_1235.JPG', 'IMG_1236.JPG', 'IMG_1237.JPG', 'IMG_1238.JPG', 'IMG_1239.JPG', 'IMG_1240.JPG', 'IMG_1241.JPG', 'IMG_1242.JPG', 'IMG_1243.JPG', 'IMG_1244.JPG', 'IMG_1245.JPG', 'IMG_1246.JPG', 'IMG_1247.JPG', 'IMG_1248.JPG', 'IMG_1249.JPG', 'IMG_1250.JPG', 'IMG_1251.JPG', 'IMG_1252.JPG', 'IMG_1253.JPG', 'IMG_1254.JPG', 'IMG_1255.JPG', 'IMG_1256.JPG', 'IMG_1257.JPG', 'IMG_1258.JPG', 'IMG_1259.JPG', 'IMG_1260.JPG', 'IMG_1261.JPG', 'IMG_1262.JPG', 'IMG_1263.JPG', 'IMG_1264.JPG', 'IMG_1265.JPG', 'IMG_1266.JPG', 'IMG_1267.JPG', 'IMG_1268.JPG', 'IMG_1269.JPG', 'IMG_1270.JPG', 'IMG_1271.JPG', 'IMG_1272.JPG', 'IMG_1273.JPG', 'IMG_1274.JPG', 'IMG_1275.JPG', 'IMG_1276.JPG', 'IMG_1277.JPG', 'IMG_1278.JPG', 'IMG_1279.JPG', 'IMG_1280.JPG', 'IMG_1281.JPG', 'IMG_1282.JPG', 'IMG_1283.JPG', 'IMG_1284.JPG', 'IMG_1285.JPG', 'IMG_1286.JPG', 'IMG_1287.JPG', 'IMG_1288.JPG', 'IMG_1289.JPG', 'IMG_1290.JPG', 'IMG_1291.JPG', 'IMG_1292.JPG', 'IMG_1293.JPG', 'IMG_1294.JPG', 'IMG_1295.JPG', 'IMG_1296.JPG', 'IMG_1297.JPG', 'IMG_1298.JPG', 'IMG_1299.JPG', 'IMG_1300.JPG', 'IMG_1301.JPG', 'IMG_1302.JPG', 'IMG_1303.JPG', 'IMG_1304.JPG', 'IMG_1305.JPG', 'IMG_1306.JPG', 'IMG_1307.JPG', 'IMG_1308.JPG', 'IMG_1309.JPG', 'IMG_1310.JPG', 'IMG_1311.JPG', 'IMG_1312.JPG', 'IMG_1313.JPG', 'IMG_1314.JPG', 'IMG_1315.JPG', 'IMG_1316.JPG', 'IMG_1317.JPG', 'IMG_1318.JPG', 'IMG_1319.JPG', 'IMG_1320.JPG', 'IMG_1321.JPG', 'IMG_1322.JPG', 'IMG_1323.JPG', 'IMG_1324.JPG', 'IMG_1325.JPG', 'IMG_1326.JPG', 'IMG_1327.JPG', 'IMG_1328.JPG', 'IMG_1329.JPG', 'IMG_1330.JPG', 'IMG_1331.JPG', 'IMG_1332.JPG', 'IMG_1333.JPG', 'IMG_1334.JPG', 'IMG_1335.JPG', 'IMG_1336.JPG', 'IMG_1337.JPG', 'IMG_1338.JPG', 'IMG_1339.JPG', 'IMG_1340.JPG', 'IMG_1341.JPG', 'IMG_1342.JPG', 'IMG_1343.JPG', 'IMG_1344.JPG']\n"
     ]
    }
   ],
   "source": [
    "image_names = []\n",
    "image_ids = []\n",
    "for (image_id, image) in images_new.items():\n",
    "    image_names.append(image.name)\n",
    "    image_ids.append(image_id)\n",
    "\n",
    "print(image_ids)\n",
    "print(image_names)"
   ]
  },
  {
   "cell_type": "code",
   "execution_count": 17,
   "metadata": {},
   "outputs": [],
   "source": [
    "import os\n",
    "\n",
    "pc.write_images_text(images_new, os.path.join(DATASET_ROOT, \"images_reordered.txt\"))"
   ]
  }
 ],
 "metadata": {
  "kernelspec": {
   "display_name": "Python 3.8.12 ('gtsfm-v1')",
   "language": "python",
   "name": "python3"
  },
  "language_info": {
   "codemirror_mode": {
    "name": "ipython",
    "version": 3
   },
   "file_extension": ".py",
   "mimetype": "text/x-python",
   "name": "python",
   "nbconvert_exporter": "python",
   "pygments_lexer": "ipython3",
   "version": "3.8.12"
  },
  "orig_nbformat": 4,
  "vscode": {
   "interpreter": {
    "hash": "3116b932223553bf88b5ef266f530a91c63077be7ffb6622dde8aee47d0061e3"
   }
  }
 },
 "nbformat": 4,
 "nbformat_minor": 2
}
